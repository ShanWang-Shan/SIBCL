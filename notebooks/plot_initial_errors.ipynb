{
 "cells": [
  {
   "cell_type": "markdown",
   "metadata": {},
   "source": [
    "**This notebook visualizes the relationship between the initial 2D reprojection errors and the final pose errors (Figure 7).**"
   ]
  },
  {
   "cell_type": "code",
   "execution_count": null,
   "metadata": {},
   "outputs": [],
   "source": [
    "%load_ext autoreload\n",
    "%autoreload 2\n",
    "\n",
    "from pathlib import Path\n",
    "import pickle\n",
    "import numpy as np\n",
    "from tqdm import tqdm\n",
    "import matplotlib.pyplot as plt\n",
    "import matplotlib as mpl\n",
    "\n",
    "from pixloc.settings import DATA_PATH, LOC_PATH, EVAL_PATH\n",
    "from pixloc.run_Aachen import default_paths\n",
    "from pixloc.localization import Model3D\n",
    "from pixloc.pixlib.geometry import Camera, Pose\n",
    "from pixloc.utils.parser import parse_image_lists\n",
    "from pixloc.utils.eval import cumulative_recall"
   ]
  },
  {
   "cell_type": "code",
   "execution_count": 1,
   "metadata": {
    "scrolled": true
   },
   "outputs": [
    {
     "name": "stderr",
     "output_type": "stream",
     "text": [
      "[09/15/2021 12:24:50 pixloc.localization.model3d INFO] Reading COLMAP model /home/psarlin/work/geometry/FeatureMetric-Pose-Estimation/outputs/hloc/Aachen/sfm_superpoint+superglue.\n",
      "[09/15/2021 12:25:02 pixloc.utils.parser INFO] Imported 922 images from Aachen_hloc_superpoint+superglue_netvlad50.txt\n",
      "[09/15/2021 12:25:08 pixloc.utils.parser INFO] Imported 922 images from refinement_Aachen_retrieval-hloc_unet-md-interp75-unc-damp_MS4.1-n3-it100.txt\n",
      "[09/15/2021 12:25:08 pixloc.utils.parser INFO] Imported 98 images from night_time_queries_with_intrinsics.txt\n",
      "[09/15/2021 12:25:08 pixloc.utils.parser INFO] Imported 824 images from day_time_queries_with_intrinsics.txt\n"
     ]
    }
   ],
   "source": [
    "paths = default_paths.add_prefixes(DATA_PATH/'Aachen', LOC_PATH/'Aachen')\n",
    "sfm = Model3D(paths.reference_sfm)\n",
    "\n",
    "hloc_path = paths.dumps / 'Aachen_hloc_superpoint+superglue_netvlad50.txt'\n",
    "hloc_poses = dict(parse_image_lists(hloc_path, with_poses=True))\n",
    "with open(str(hloc_path)+'_logs.pkl', 'rb') as file:\n",
    "    loc_logs = pickle.load(file)\n",
    "    \n",
    "results_path = EVAL_PATH / 'pixloc_Aachen.txt'\n",
    "pred_poses = dict(parse_image_lists(results_path, with_poses=True))\n",
    "with open(str(results_path)+'_logs.pkl', 'rb') as f:\n",
    "    pred_logs = pickle.load(f)\n",
    "    \n",
    "qnames = list(loc_logs['loc'].keys())\n",
    "qdata = parse_image_lists(paths.query_list, with_intrinsics=True)\n",
    "qdata = {Path(q).name: cam for q, cam in qdata}\n",
    "assert set(Path(q).name for q in qnames) == set(qdata)"
   ]
  },
  {
   "cell_type": "markdown",
   "metadata": {},
   "source": [
    "# Get the inlier ranking"
   ]
  },
  {
   "cell_type": "code",
   "execution_count": 2,
   "metadata": {},
   "outputs": [
    {
     "name": "stderr",
     "output_type": "stream",
     "text": [
      "100%|█████████████████████████████████████████████████████████████████████████████████████████████████████████████████████████████████████████████| 922/922 [00:09<00:00, 93.06it/s]\n"
     ]
    }
   ],
   "source": [
    "init_poses = {}\n",
    "p3d_ids = {}\n",
    "conf = pred_logs['configuration']['refinement']\n",
    "for qname in tqdm(qnames):\n",
    "    loc = loc_logs['loc'][qname]\n",
    "    dbids = loc['db']\n",
    "    inliers = loc['PnP_ret']['inliers']\n",
    "    \n",
    "    ninl_dbs = sfm.get_db_inliers(loc, dbids, inliers)\n",
    "    dbids = sfm.rerank_and_filter_db_images(dbids, ninl_dbs, conf['num_dbs'], 10)\n",
    "    key = Path(qname).name\n",
    "    if len(dbids) > 0:\n",
    "        init_poses[key] = sfm.dbs[dbids[0]]\n",
    "        p3did_to_dbids = sfm.get_p3did_to_dbids(dbids, loc, inliers)\n",
    "        p3d_ids[key] = list(p3did_to_dbids.keys())"
   ]
  },
  {
   "cell_type": "markdown",
   "metadata": {},
   "source": [
    "# Compute initial and final 2D reprojection errors"
   ]
  },
  {
   "cell_type": "code",
   "execution_count": 3,
   "metadata": {},
   "outputs": [
    {
     "name": "stderr",
     "output_type": "stream",
     "text": [
      "100%|████████████████████████████████████████████████████████████████████████████████████████████████████████████████████████████████████████████| 919/919 [00:06<00:00, 137.14it/s]\n"
     ]
    }
   ],
   "source": [
    "def project(p3d, im, cam):\n",
    "    T_w2cam = Pose.from_colmap(im)\n",
    "    p2d, mask = cam.world2image(T_w2cam * p3d)\n",
    "    size = pred_logs['configuration']['network']['resize']\n",
    "    max_ = max(cam.size.numpy())\n",
    "    if max_ > size:\n",
    "        p2d = (p2d + 0.5) / max_ * size - 0.5\n",
    "    return p2d.numpy(), mask.numpy()\n",
    "\n",
    "def pose_error(names, poses_gt, poses):\n",
    "    T_w2gt = Pose.stack([Pose.from_colmap(poses_gt[q]) for q in names])\n",
    "    T_w2cam = Pose.stack([Pose.from_colmap(poses[q]) for q in names])\n",
    "    dt = np.linalg.norm((T_w2gt @ T_w2cam.inv()).t, axis=-1)\n",
    "    return dt\n",
    "\n",
    "err2d_init = []\n",
    "err2d_pred = []\n",
    "names = []\n",
    "for q in tqdm(init_poses):\n",
    "    p3d = np.stack([sfm.points3D[i].xyz for i in p3d_ids[q]])\n",
    "    cam = Camera.from_colmap(qdata[q])\n",
    "    p2d_gt, mask = project(p3d, hloc_poses[q], cam)\n",
    "    if np.count_nonzero(mask) == 0:\n",
    "        continue\n",
    "    \n",
    "    p2d_pred, _ = project(p3d, pred_poses[q], cam)\n",
    "    e2d_pred = np.linalg.norm(p2d_gt - p2d_pred, axis=1)[mask].mean()\n",
    "    p2d_init, _ = project(p3d, init_poses[q], cam)\n",
    "    e2d_init = np.linalg.norm(p2d_gt - p2d_init, axis=1)[mask].mean()\n",
    "    \n",
    "    err2d_init.append(e2d_init)\n",
    "    err2d_pred.append(e2d_pred)\n",
    "    names.append(q)\n",
    "\n",
    "err2d_init = np.array(err2d_init)\n",
    "err2d_pred = np.array(err2d_pred)\n",
    "err_init = pose_error(names, hloc_poses, init_poses)\n",
    "err_pred = pose_error(names, hloc_poses, pred_poses)"
   ]
  },
  {
   "cell_type": "markdown",
   "metadata": {},
   "source": [
    "# Define bins and count"
   ]
  },
  {
   "cell_type": "code",
   "execution_count": 4,
   "metadata": {},
   "outputs": [
    {
     "data": {
      "text/plain": [
       "[1.0,\n",
       " 0.8461538461538461,\n",
       " 0.9574468085106383,\n",
       " 0.9333333333333333,\n",
       " 0.8933333333333333,\n",
       " 0.8176795580110497,\n",
       " 0.8277777777777777,\n",
       " 0.6752136752136753,\n",
       " 0.410958904109589,\n",
       " 0.35,\n",
       " 0.0,\n",
       " 0.0]"
      ]
     },
     "execution_count": 4,
     "metadata": {},
     "output_type": "execute_result"
    }
   ],
   "source": [
    "bins = np.logspace(np.log10(20),np.log10(1500), 13)\n",
    "prob = []\n",
    "for i in range(len(bins)-1):\n",
    "    select = err_pred[(err2d_init>bins[i]) & ((err2d_init<=bins[i+1]))]\n",
    "    p = np.mean(select <= 1)\n",
    "    prob.append(p)\n",
    "prob"
   ]
  },
  {
   "cell_type": "markdown",
   "metadata": {},
   "source": [
    "# Histogram"
   ]
  },
  {
   "cell_type": "code",
   "execution_count": 24,
   "metadata": {},
   "outputs": [
    {
     "name": "stdout",
     "output_type": "stream",
     "text": [
      "Recall of oracle @1m: 4.13%\n"
     ]
    },
    {
     "data": {
      "image/png": "[encoded data removed]",
      "text/plain": [
       "<Figure size 432x216 with 2 Axes>"
      ]
     },
     "metadata": {
      "needs_background": "light"
     },
     "output_type": "display_data"
    }
   ],
   "source": [
    "mpl.rc('font', size=14)\n",
    "print(f'Recall of oracle @1m: {np.mean(err_init<1)*100:.3}%')\n",
    "\n",
    "fig, ax2 = plt.subplots(figsize=(6, 3))\n",
    "ax2.set_xlabel('Initial 2D reprojection error [pixels]')\n",
    "plt.grid(axis='x', which='both', alpha=0.5)\n",
    "\n",
    "color = 'tab:blue'\n",
    "ax2.hist(err2d_init, bins=bins, alpha=0.3, color=color, zorder=5);\n",
    "ax2.set_ylabel('Distribution of initial errors', color=color)\n",
    "ax2.tick_params(axis='y', labelcolor=color)\n",
    "ax2.yaxis.set_label_coords(-0.11,0.42)\n",
    "\n",
    "ax1 = ax2.twinx()\n",
    "color = 'red'\n",
    "ax1.plot((bins[1:]+bins[:-1])/2, prob, 'o-', c=color, zorder=20)\n",
    "ax1.set_ylabel('Recall ($\\Delta t < $ 1m)', color=color)\n",
    "ax1.tick_params(axis='y', labelcolor=color)\n",
    "ax1.set_xscale('log')\n",
    "ax1.set_ylim([-.03, 1.03])\n",
    "ax1.grid()\n",
    "ax1.yaxis.set_major_formatter(mpl.ticker.PercentFormatter(1.0))\n",
    "\n",
    "# plt.savefig('convergence_stats_Aachen.pdf', bbox_inches='tight', pad_inches=0)"
   ]
  },
  {
   "cell_type": "markdown",
   "metadata": {},
   "source": [
    "# Cumulative recall"
   ]
  },
  {
   "cell_type": "code",
   "execution_count": 42,
   "metadata": {},
   "outputs": [
    {
     "name": "stdout",
     "output_type": "stream",
     "text": [
      "Prediction: [70.51142546 75.40805223 81.93688792]\n",
      "Initial:    [ 0.10881393  1.19695321 47.8781284 ]\n"
     ]
    },
    {
     "data": {
      "image/png": "[encoded data removed]",
      "text/plain": [
       "<Figure size 432x288 with 1 Axes>"
      ]
     },
     "metadata": {
      "needs_background": "light"
     },
     "output_type": "display_data"
    },
    {
     "data": {
      "image/png": "[encoded data removed]",
      "text/plain": [
       "<Figure size 432x288 with 1 Axes>"
      ]
     },
     "metadata": {
      "needs_background": "light"
     },
     "output_type": "display_data"
    }
   ],
   "source": [
    "x, y = cumulative_recall(err_pred)\n",
    "plt.plot(x, y)\n",
    "recall = y[np.searchsorted(x, [0.25, 0.5, 5])]\n",
    "print('Prediction:', recall)\n",
    "\n",
    "x, y = cumulative_recall(err_init)\n",
    "plt.plot(x, y)\n",
    "recall = y[np.searchsorted(x, [0.25, 0.5, 5])]\n",
    "print('Initial:   ', recall)\n",
    "\n",
    "plt.xlim([0.01, 10])\n",
    "plt.ylim([0, 100])\n",
    "plt.grid()\n",
    "plt.xscale('log')\n",
    "plt.xlabel('log distance [m]')\n",
    "plt.ylabel('Cumulative recall [%]');\n",
    "plt.title(f'Aachen');\n",
    "\n",
    "plt.figure()\n",
    "plt.hist(np.clip(err_init, a_max=50, a_min=None), bins=40, alpha=1.);\n",
    "plt.hist(np.clip(err_pred, a_max=50, a_min=None), bins=40, alpha=.8);\n",
    "plt.xlabel('Pose errors [m]');"
   ]
  }
 ],
 "metadata": {
  "kernelspec": {
   "display_name": "Python 3 (ipykernel)",
   "language": "python",
   "name": "python3"
  },
  "language_info": {
   "codemirror_mode": {
    "name": "ipython",
    "version": 3
   },
   "file_extension": ".py",
   "mimetype": "text/x-python",
   "name": "python",
   "nbconvert_exporter": "python",
   "pygments_lexer": "ipython3",
   "version": "3.7.8"
  }
 },
 "nbformat": 4,
 "nbformat_minor": 4
}
